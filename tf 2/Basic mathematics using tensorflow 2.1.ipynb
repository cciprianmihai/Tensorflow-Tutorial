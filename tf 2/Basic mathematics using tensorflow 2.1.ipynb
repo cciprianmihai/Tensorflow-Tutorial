{
 "cells": [
  {
   "cell_type": "code",
   "execution_count": 1,
   "metadata": {},
   "outputs": [],
   "source": [
    "# Import modules\n",
    "\n",
    "import tensorflow as tf"
   ]
  },
  {
   "cell_type": "code",
   "execution_count": 2,
   "metadata": {},
   "outputs": [
    {
     "data": {
      "text/plain": [
       "'2.1.0'"
      ]
     },
     "execution_count": 2,
     "metadata": {},
     "output_type": "execute_result"
    }
   ],
   "source": [
    "# Print version\n",
    "\n",
    "tf.__version__"
   ]
  },
  {
   "cell_type": "code",
   "execution_count": 5,
   "metadata": {},
   "outputs": [],
   "source": [
    "# Declare 3x3 tensors with random values\n",
    "\n",
    "x = tf.random.normal(shape=(3, 3))\n",
    "y = tf.random.normal(shape=(3, 3))"
   ]
  },
  {
   "cell_type": "code",
   "execution_count": 8,
   "metadata": {},
   "outputs": [
    {
     "name": "stdout",
     "output_type": "stream",
     "text": [
      "Tensor x is: tf.Tensor(\n",
      "[[ 1.1656096   0.05655556 -2.112155  ]\n",
      " [-1.0343062   0.13542165  0.50263804]\n",
      " [ 1.0403721  -0.67204964  0.7652352 ]], shape=(3, 3), dtype=float32)\n",
      "Tensor y is: tf.Tensor(\n",
      "[[-0.4649665  -2.3577511  -1.4340464 ]\n",
      " [-0.54458827  1.1283857   2.03892   ]\n",
      " [-0.33475885  0.20941909  0.86807925]], shape=(3, 3), dtype=float32)\n"
     ]
    }
   ],
   "source": [
    "# Eager execution is letting us skip all the graph session\n",
    "\n",
    "print(\"Tensor x is:\", x)\n",
    "print(\"Tensor y is:\", y)"
   ]
  },
  {
   "cell_type": "code",
   "execution_count": 9,
   "metadata": {},
   "outputs": [
    {
     "name": "stdout",
     "output_type": "stream",
     "text": [
      "The sum of tensors is: tf.Tensor(\n",
      "[[ 0.70064306 -2.3011956  -3.5462012 ]\n",
      " [-1.5788944   1.2638073   2.541558  ]\n",
      " [ 0.70561326 -0.46263057  1.6333144 ]], shape=(3, 3), dtype=float32)\n"
     ]
    }
   ],
   "source": [
    "print(\"The sum of tensors is:\", x + y)"
   ]
  }
 ],
 "metadata": {
  "kernelspec": {
   "display_name": "Python 3",
   "language": "python",
   "name": "python3"
  },
  "language_info": {
   "codemirror_mode": {
    "name": "ipython",
    "version": 3
   },
   "file_extension": ".py",
   "mimetype": "text/x-python",
   "name": "python",
   "nbconvert_exporter": "python",
   "pygments_lexer": "ipython3",
   "version": "3.7.7"
  }
 },
 "nbformat": 4,
 "nbformat_minor": 2
}
