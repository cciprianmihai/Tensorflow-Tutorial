{
 "cells": [
  {
   "cell_type": "code",
   "execution_count": 1,
   "metadata": {},
   "outputs": [],
   "source": [
    "# Import modules\n",
    "\n",
    "import tensorflow as tf"
   ]
  },
  {
   "cell_type": "code",
   "execution_count": 2,
   "metadata": {},
   "outputs": [
    {
     "data": {
      "text/plain": [
       "'2.1.0'"
      ]
     },
     "execution_count": 2,
     "metadata": {},
     "output_type": "execute_result"
    }
   ],
   "source": [
    "# Print version\n",
    "\n",
    "tf.__version__"
   ]
  },
  {
   "cell_type": "code",
   "execution_count": 3,
   "metadata": {},
   "outputs": [],
   "source": [
    "# Declare trainable variables with random values\n",
    "\n",
    "# 500 samples with 8 features\n",
    "x = tf.random.normal(shape=(500, 8))\n",
    "\n",
    "# weights variable\n",
    "# [500x8]*[8x3] = [500x3], assuming that we have 3 classes\n",
    "w = tf.Variable(tf.random.normal(shape=(8, 3)))\n",
    "\n",
    "# bias variables\n",
    "b = tf.Variable(tf.random.normal(shape=(3, )))\n",
    "\n",
    "y_pred = tf.matmul(x, w) + b"
   ]
  },
  {
   "cell_type": "code",
   "execution_count": 4,
   "metadata": {},
   "outputs": [
    {
     "name": "stdout",
     "output_type": "stream",
     "text": [
      "The prediction is: tf.Tensor(\n",
      "[[ 1.3557385   1.9338787   3.5172257 ]\n",
      " [-1.1225935   2.3543477  -0.7270689 ]\n",
      " [-0.29219902  1.0164405   0.3029002 ]\n",
      " ...\n",
      " [ 0.8749374   2.6742086   0.66822904]\n",
      " [ 0.35834587  2.3144774   2.639148  ]\n",
      " [ 4.345892    4.076871   -1.3088446 ]], shape=(500, 3), dtype=float32)\n"
     ]
    }
   ],
   "source": [
    "# Eager execution is letting us skip all the graph session\n",
    "\n",
    "print(\"The prediction is:\", y_pred)"
   ]
  }
 ],
 "metadata": {
  "kernelspec": {
   "display_name": "Python 3",
   "language": "python",
   "name": "python3"
  },
  "language_info": {
   "codemirror_mode": {
    "name": "ipython",
    "version": 3
   },
   "file_extension": ".py",
   "mimetype": "text/x-python",
   "name": "python",
   "nbconvert_exporter": "python",
   "pygments_lexer": "ipython3",
   "version": "3.7.7"
  }
 },
 "nbformat": 4,
 "nbformat_minor": 4
}
